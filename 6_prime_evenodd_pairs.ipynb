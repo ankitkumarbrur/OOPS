{
 "metadata": {
  "language_info": {
   "codemirror_mode": {
    "name": "ipython",
    "version": 3
   },
   "file_extension": ".py",
   "mimetype": "text/x-python",
   "name": "python",
   "nbconvert_exporter": "python",
   "pygments_lexer": "ipython3",
   "version": "3.8.1-final"
  },
  "orig_nbformat": 2,
  "kernelspec": {
   "name": "python38132bitvenvvenv91270e11641b484ca834f7666afa2651",
   "display_name": "Python 3.8.1 32-bit ('venv': venv)",
   "language": "python"
  }
 },
 "nbformat": 4,
 "nbformat_minor": 2,
 "cells": [
  {
   "source": [
    "# MENU\n",
    "1. Given a list of 'n' numbers i.e. 1 to n, print prime numbers and total numbers of prime number\n",
    "\n",
    "    e.g. I/p: n = 10\n",
    "\n",
    "    o/p: 2, 3, 5, 7\n",
    "    \n",
    "    Total Prime numbers from 1 to 10 are 4\n",
    "\n",
    "2. Given a list of 'n' numbers i.e. 1 to n, print even and odd numbers.\n",
    " \n",
    "3. Take 'n' numbers from the user and a number 'm'. Find all possible pairs of numbers form inputted 'n' numbers that sum up to m\n",
    "\n",
    "    e.g. I/p: n = 5\n",
    "\n",
    "    5 Numbers are: 10, 30, 8, 23, 1\n",
    "\n",
    "    m = 31\n",
    "\n",
    "    o/p: ```[30, 1]``` and ```[8, 23]```"
   ],
   "cell_type": "markdown",
   "metadata": {}
  },
  {
   "source": [
    "# 1. Prime Numbers"
   ],
   "cell_type": "markdown",
   "metadata": {}
  },
  {
   "cell_type": "code",
   "execution_count": 1,
   "metadata": {},
   "outputs": [],
   "source": [
    "from math import sqrt\n",
    "def isPrime(num):\n",
    "    '''\n",
    "    Check if the number is prime or not.\n",
    "    '''\n",
    "    if not isinstance(num,int) :\n",
    "        raise Exception(\"Enter only integer values\")\n",
    "\n",
    "    is_prime = True\n",
    "    if num <= 1:\n",
    "        is_prime = False\n",
    "    elif num <= 3:\n",
    "        is_prime = True\n",
    "    elif (num % 2 == 0 or num % 3 == 0):\n",
    "        is_prime = False\n",
    "    for i in range(5, int(sqrt(num)) + 1, 6):\n",
    "        if (num % i == 0 or num % (i + 2) == 0):\n",
    "            is_prime = False\n",
    "            break\n",
    "    return is_prime"
   ]
  },
  {
   "cell_type": "code",
   "execution_count": 2,
   "metadata": {},
   "outputs": [],
   "source": [
    "def printPrime(n):\n",
    "    '''\n",
    "    Prints prime numbers starting from 1 to n.\n",
    "    '''\n",
    "    if not isinstance(n,int) :\n",
    "        raise Exception(\"Enter only integer values\")\n",
    "\n",
    "    total = 0;\n",
    "    for i in range(n):\n",
    "        if isPrime(i):\n",
    "            total+=1\n",
    "            print(i,end=\" \")\n",
    "    print(\"\\n\\nThere are total\",total,\"prime numbers from 1 to\",n)"
   ]
  },
  {
   "cell_type": "code",
   "execution_count": 3,
   "metadata": {},
   "outputs": [
    {
     "output_type": "stream",
     "name": "stdout",
     "text": [
      "2 3 5 7 11 13 17 19 23 29 31 37 41 43 47 53 59 61 67 71 73 79 83 89 97 \n\nThere are total 25 prime numbers from 1 to 100\n"
     ]
    }
   ],
   "source": [
    "printPrime(100)"
   ]
  },
  {
   "source": [
    "# 2. Print Even Odd"
   ],
   "cell_type": "markdown",
   "metadata": {}
  },
  {
   "cell_type": "code",
   "execution_count": 4,
   "metadata": {},
   "outputs": [],
   "source": [
    "def print_even_odd(n):\n",
    "    \"\"\"\n",
    "    Prints Odd and Even Numbers from 1 to n\n",
    "    \"\"\"\n",
    "    if not isinstance(n,int) :\n",
    "        raise Exception(\"Enter only integer values\")\n",
    "\n",
    "    print(\"Odd numbers    : \", end = \" \")\n",
    "    for i in range(1,n,2):\n",
    "            print(i, end= \" \")\n",
    "            \n",
    "    print(\"\\nEven numbers   : \", end = \" \")\n",
    "    for i in range(2,n+1,2):\n",
    "            print(i, end= \" \")"
   ]
  },
  {
   "cell_type": "code",
   "execution_count": 5,
   "metadata": {},
   "outputs": [
    {
     "output_type": "stream",
     "name": "stdout",
     "text": [
      "Odd numbers    :  1 3 5 7 9 11 13 15 17 19 \nEven numbers   :  2 4 6 8 10 12 14 16 18 20 "
     ]
    }
   ],
   "source": [
    "print_even_odd(20)"
   ]
  },
  {
   "source": [
    "# 3. Find Pairs that adds upto an entered value"
   ],
   "cell_type": "markdown",
   "metadata": {}
  },
  {
   "cell_type": "code",
   "execution_count": 6,
   "metadata": {},
   "outputs": [],
   "source": [
    "def find_pairs(list,m):\n",
    "    \"\"\"\n",
    "    Find pairs that add up to a number in a list\n",
    "    \"\"\"\n",
    "    list.sort()\n",
    "    list_up = [list[x] for x in range(len(list)) if list[x] <= m-list[0]]\n",
    "    pairs = []\n",
    "\n",
    "    for i in range(len(list_up)):\n",
    "        pairs += [ [list_up[i], list_up[j]] for j in range(i+1,len(list_up)) if list_up[i] + list_up[j] == m]\n",
    "\n",
    "    return pairs"
   ]
  },
  {
   "cell_type": "code",
   "execution_count": 7,
   "metadata": {},
   "outputs": [
    {
     "output_type": "execute_result",
     "data": {
      "text/plain": [
       "[[1, 30], [8, 23], [10, 21]]"
      ]
     },
     "metadata": {},
     "execution_count": 7
    }
   ],
   "source": [
    "find_pairs([10, 30, 8, 23, 1, 51, 31, 21],31)"
   ]
  },
  {
   "source": [
    "# RUN"
   ],
   "cell_type": "markdown",
   "metadata": {}
  },
  {
   "cell_type": "code",
   "execution_count": 8,
   "metadata": {},
   "outputs": [
    {
     "output_type": "stream",
     "name": "stdout",
     "text": [
      "Prime Numbers from 1 upto 10 :\n\n2 3 5 7 \n\nThere are total 4 prime numbers from 1 to 10\n\nEven and Odd Numbers from 1 upto 10 :\nOdd numbers    :  1 3 5 7 9 \nEven numbers   :  2 4 6 8 10 "
     ]
    }
   ],
   "source": [
    "# Prints prime and odd even numbers upto entered number\n",
    "x = int(input(\"Enter n: \"))\n",
    "print(\"Prime Numbers from 1 upto\",x,\":\\n\")\n",
    "printPrime(x)\n",
    "print(\"\\nEven and Odd Numbers from 1 upto\",x,\":\")\n",
    "print_even_odd(x)"
   ]
  },
  {
   "cell_type": "code",
   "execution_count": 9,
   "metadata": {},
   "outputs": [
    {
     "output_type": "stream",
     "name": "stdout",
     "text": [
      "The pairs that adds up to 7 in the given list are [[0, 7], [1, 6], [2, 5], [3, 4]]\n"
     ]
    }
   ],
   "source": [
    "# Finds the pairs in a list that adds up to a number\n",
    "x = input(\"Enter n numbers (Delimiter '\\b') :\")\n",
    "m = int(input(\"Enter m: \"))\n",
    "\n",
    "l = [int(i) for i in x.strip().split(' ')]\n",
    "\n",
    "print(\"The pairs that adds up to\",m ,\"in the given list are\",find_pairs(l,m))"
   ]
  }
 ]
}