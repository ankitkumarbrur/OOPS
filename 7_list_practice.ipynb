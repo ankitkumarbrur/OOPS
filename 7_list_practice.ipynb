{
 "metadata": {
  "language_info": {
   "codemirror_mode": {
    "name": "ipython",
    "version": 3
   },
   "file_extension": ".py",
   "mimetype": "text/x-python",
   "name": "python",
   "nbconvert_exporter": "python",
   "pygments_lexer": "ipython3",
   "version": "3.8.1-final"
  },
  "orig_nbformat": 2,
  "kernelspec": {
   "name": "python38132bitvenvvenv91270e11641b484ca834f7666afa2651",
   "display_name": "Python 3.8.1 32-bit ('venv': venv)",
   "language": "python"
  }
 },
 "nbformat": 4,
 "nbformat_minor": 2,
 "cells": [
  {
   "source": [
    "# MENU\n",
    "1. Write a function that takes a list of values as input parameters and returns another list without any duplicates.\n",
    "\n",
    "2. Write a function that takes a list of numbers as input from the user and produce the corresponding cumulative list where each element in the list at the index i is the sum of elements at index j<=i.\n",
    "\n",
    "3. Write a function that takes a number as an input and creates a list of n lists such that ith list contains first five multiples of i."
   ],
   "cell_type": "markdown",
   "metadata": {}
  },
  {
   "cell_type": "code",
   "execution_count": 1,
   "metadata": {},
   "outputs": [],
   "source": [
    "def remove_duplicates(list_dup):\n",
    "    '''\n",
    "    Removes duplicates from a list and return it.\n",
    "\n",
    "    Parameters:\n",
    "        list:   <list>, required\n",
    "                takes a list from which you want to remove duplicates\n",
    "    \n",
    "    Returns:\n",
    "        List without any duplicates\n",
    "    '''\n",
    "    list_1 = []\n",
    "    [list_1.append(i) for i in list_dup if i not in list_1]\n",
    "    return list_1"
   ]
  },
  {
   "cell_type": "code",
   "execution_count": 2,
   "metadata": {},
   "outputs": [],
   "source": [
    "def cummulative_list(list_1):\n",
    "    '''\n",
    "    Returns a cummulative list for the given list\n",
    "\n",
    "    Parameters:\n",
    "        list_1: <list>, required \n",
    "\n",
    "    Returns:\n",
    "        Cummulative list\n",
    "    '''\n",
    "    return [sum(list_1[:i+1]) for i in range(len(list_1))]\n",
    "    "
   ]
  },
  {
   "cell_type": "code",
   "execution_count": 3,
   "metadata": {},
   "outputs": [],
   "source": [
    "def multiple_list(n):\n",
    "    '''\n",
    "    Returns a list of n lists such that ith list contains first five multiples of i\n",
    "\n",
    "    Parameters:\n",
    "        n:  <int>, required\n",
    "    '''\n",
    "    return [[ i*j for j in range(1,6) ] for i in range(n) ]\n",
    "    "
   ]
  },
  {
   "source": [
    "# RUN"
   ],
   "cell_type": "markdown",
   "metadata": {}
  },
  {
   "cell_type": "code",
   "execution_count": 4,
   "metadata": {},
   "outputs": [
    {
     "output_type": "stream",
     "name": "stdout",
     "text": [
      "List after removing duplicates:  [1, 2, 3, 4, 5]\n"
     ]
    }
   ],
   "source": [
    "x = input(\"Enter a list with duplicates to remove duplicates (Delimiter '\\b') :\")\n",
    "\n",
    "l = [int(i) for i in x.strip().split(' ')]\n",
    "\n",
    "print(\"List after removing duplicates: \", remove_duplicates(l))"
   ]
  },
  {
   "cell_type": "code",
   "execution_count": 5,
   "metadata": {},
   "outputs": [
    {
     "output_type": "stream",
     "name": "stdout",
     "text": [
      "Cummulative list:  [1, 3, 6, 10, 15]\n"
     ]
    }
   ],
   "source": [
    "x = input(\"Enter a list to get its cummilative list (Delimiter '\\b') :\")\n",
    "\n",
    "l = [int(i) for i in \" \".join(x.split()).split(' ')]\n",
    "\n",
    "print(\"Cummulative list: \", cummulative_list(l))"
   ]
  },
  {
   "cell_type": "code",
   "execution_count": 6,
   "metadata": {},
   "outputs": [
    {
     "output_type": "stream",
     "name": "stdout",
     "text": [
      "list of n lists such that ith list contains first five multiples of i : \n [[0, 0, 0, 0, 0], [1, 2, 3, 4, 5], [2, 4, 6, 8, 10], [3, 6, 9, 12, 15], [4, 8, 12, 16, 20]]\n"
     ]
    }
   ],
   "source": [
    "n = int(input(\"Enter n: \"))\n",
    "\n",
    "print(\"list of n lists such that ith list contains first five multiples of i : \\n\", multiple_list(n) )"
   ]
  },
  {
   "cell_type": "code",
   "execution_count": 9,
   "metadata": {},
   "outputs": [
    {
     "output_type": "stream",
     "name": "stdout",
     "text": [
      "[2, 4, 6]\n"
     ]
    }
   ],
   "source": [
    "def sumTwoNum(x,y):\n",
    "    '''\n",
    "    Returns the sum of two numbers or concatenate two strings\n",
    "\n",
    "    Parameters:\n",
    "        x : required\n",
    "        y : required\n",
    "    '''\n",
    "    z=x+y       # calculating the sum\n",
    "    return z    # returning sum\n",
    "    \n",
    "def sumList(list1,list2):\n",
    "    '''\n",
    "    Returns the sum of two lists\n",
    "\n",
    "    Parameters:\n",
    "        list1 : <list> required\n",
    "        list2 : <list> required\n",
    "    '''\n",
    "    sum_List = []                   # empty list to store sum of lists \n",
    "    for i in range(len(list1)):     # loop to traverse every single element of list\n",
    "        sum1 = sumTwoNum(list1[i],list2[i])     # using our sumTwoNUm to get summation of two numbers\n",
    "        sum_List.append(sum1)       # appendending sum of two elements to sum_list\n",
    "\n",
    "    return sum_List                 # returning the sum of the list\n",
    "\n",
    "x = [1,2,3]\n",
    "y = [1,2,3]\n",
    "\n",
    "print(sumList(x,y))"
   ]
  },
  {
   "cell_type": "code",
   "execution_count": 10,
   "metadata": {},
   "outputs": [],
   "source": [
    "n = len(x) if len(y) >= len(x) else len(y)"
   ]
  },
  {
   "cell_type": "code",
   "execution_count": 11,
   "metadata": {},
   "outputs": [
    {
     "output_type": "execute_result",
     "data": {
      "text/plain": [
       "3"
      ]
     },
     "metadata": {},
     "execution_count": 11
    }
   ],
   "source": [
    "n"
   ]
  },
  {
   "cell_type": "code",
   "execution_count": 17,
   "metadata": {},
   "outputs": [
    {
     "output_type": "stream",
     "name": "stdout",
     "text": [
      "x =  10\ny =  5\n"
     ]
    }
   ],
   "source": [
    "x = 5\n",
    "y = 10\n",
    "\n",
    "def swap(x,y):\n",
    "    return y, x\n",
    "    \n",
    "x,y = swap(x,y)\n",
    "\n",
    "print(\"x = \",x)\n",
    "print(\"y = \",y)"
   ]
  },
  {
   "cell_type": "code",
   "execution_count": 25,
   "metadata": {},
   "outputs": [],
   "source": [
    "def validateMarks(marks):\n",
    "\tfor i in marks: # Traverse each element \n",
    "\t\tif not isinstance(i,(int,float)) or i < 0 or i > 100:    # Statement 2 : Checking if entered marks are in float and int type and within range 0 to 100\n",
    "\t\t\treturn False\n",
    "\treturn True"
   ]
  },
  {
   "cell_type": "code",
   "execution_count": 30,
   "metadata": {},
   "outputs": [
    {
     "output_type": "execute_result",
     "data": {
      "text/plain": [
       "False"
      ]
     },
     "metadata": {},
     "execution_count": 30
    }
   ],
   "source": [
    "validateMarks([-10,2,10])"
   ]
  }
 ]
}