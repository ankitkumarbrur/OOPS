{
 "metadata": {
  "language_info": {
   "codemirror_mode": {
    "name": "ipython",
    "version": 3
   },
   "file_extension": ".py",
   "mimetype": "text/x-python",
   "name": "python",
   "nbconvert_exporter": "python",
   "pygments_lexer": "ipython3",
   "version": "3.8.1-final"
  },
  "orig_nbformat": 2,
  "kernelspec": {
   "name": "python38132bitvenvvenv91270e11641b484ca834f7666afa2651",
   "display_name": "Python 3.8.1 32-bit ('venv': venv)",
   "language": "python"
  }
 },
 "nbformat": 4,
 "nbformat_minor": 2,
 "cells": [
  {
   "source": [
    "# MENU\n",
    "\n",
    "1. Find the sum of squares of individual digits of a number 'sqdnumber' and store the sum in variable 'sqdNumber_result'. E.g. if the number is 234, the sum is computed as (22 + 32 + 42 = 4 + 9 + 16 = 29) \n",
    "\n",
    "2. Happy Numbers: A number is called a happy number, if you repeat the process, of squaring the sum of the digits, till the value 1 is obtained. E.g. You need to do the following to perform this check: (a) compute the sum of the squares of its digits (b) if the resultant value is 1, then the number is a happy number, else execute point (a). If a number is not a happy number, there will be an endless loop/cycle to this execution. \n",
    "\n",
    "You are required to write code that checks whether the number is a happy number or not, for 10 cycles (iterations) only."
   ],
   "cell_type": "markdown",
   "metadata": {}
  },
  {
   "cell_type": "code",
   "execution_count": 1,
   "metadata": {},
   "outputs": [],
   "source": [
    "def sum_square(sqdnumber):\n",
    "    sqdNumber_result = 0\n",
    "    while(sqdnumber>0):\n",
    "        sqdNumber_result += (sqdnumber % 10) ** 2\n",
    "        sqdnumber //= 10\n",
    "    return sqdNumber_result"
   ]
  },
  {
   "cell_type": "code",
   "execution_count": 2,
   "metadata": {},
   "outputs": [],
   "source": [
    "def happyNumber(num):\n",
    "    for _ in range(10):\n",
    "        num = sum_square(num)\n",
    "        if( num == 1):\n",
    "            return \"Happy Number\"\n",
    "    return \"Not Happy\""
   ]
  },
  {
   "source": [
    "# RUN"
   ],
   "cell_type": "markdown",
   "metadata": {}
  },
  {
   "cell_type": "code",
   "execution_count": 3,
   "metadata": {},
   "outputs": [
    {
     "output_type": "stream",
     "name": "stdout",
     "text": [
      "Squared Sum of 234 :  29\n"
     ]
    }
   ],
   "source": [
    "a = int(input(\"Enter a Number to get squared sum of its digits:\"))\n",
    "print(\"Squared Sum of\",a,\": \", sum_square(a))"
   ]
  },
  {
   "cell_type": "code",
   "execution_count": 4,
   "metadata": {},
   "outputs": [
    {
     "output_type": "stream",
     "name": "stdout",
     "text": [
      "The number 13 is Happy Number\n"
     ]
    }
   ],
   "source": [
    "a = int(input(\"Enter a Number to check if it is happy number:\"))\n",
    "print(\"The number\",a ,\"is\", happyNumber(a))"
   ]
  }
 ]
}