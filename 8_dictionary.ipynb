{
 "metadata": {
  "language_info": {
   "codemirror_mode": {
    "name": "ipython",
    "version": 3
   },
   "file_extension": ".py",
   "mimetype": "text/x-python",
   "name": "python",
   "nbconvert_exporter": "python",
   "pygments_lexer": "ipython3",
   "version": "3.8.1-final"
  },
  "orig_nbformat": 2,
  "kernelspec": {
   "name": "python38132bitvenvvenv91270e11641b484ca834f7666afa2651",
   "display_name": "Python 3.8.1 32-bit ('venv': venv)",
   "language": "python"
  }
 },
 "nbformat": 4,
 "nbformat_minor": 2,
 "cells": [
  {
   "cell_type": "code",
   "execution_count": 15,
   "metadata": {},
   "outputs": [],
   "source": [
    "def freq_pos(list1):\n",
    "    '''\n",
    "    Counts frequency of each element in a list and store every unique element's index in a separate list.\n",
    "\n",
    "    Parameters:\n",
    "        list1:  <list>, required\n",
    "    \n",
    "    Returns:\n",
    "        two dictionary (frequency,position)\n",
    "    '''\n",
    "    frequency = {}  # dictionary to store frequency of each element\n",
    "    position = {}   # dictionary to store position of each element\n",
    "\n",
    "    for index, item in enumerate(list1):    # using enumerate on list and traversing the list\n",
    "        if item in frequency:               # checking if item is already in frequency dictionary\n",
    "            frequency[item] += 1            # increasing the frequency of current item\n",
    "            position[item].append(index)    # appending the position of current item\n",
    "        else:\n",
    "            frequency[item] = 1             # registering a new encountered item in the frequency dictionary\n",
    "            position[item] = [index]        # registering a new encountered item in the position dictionary\n",
    "    return frequency, position              # returning frequency and position dictionary"
   ]
  },
  {
   "cell_type": "code",
   "execution_count": 3,
   "metadata": {},
   "outputs": [],
   "source": [
    "def freq_pos(list1):\n",
    "    '''\n",
    "    Counts frequency of each element in a list and store every unique element's index in a separate list.\n",
    "\n",
    "    Parameters:\n",
    "        list1:  <list>, required\n",
    "    \n",
    "    Returns:\n",
    "        two dictionary (frequency,position)\n",
    "    '''\n",
    "    frequency = {}  # dictionary to store frequency of each element\n",
    "    position = {}   # dictionary to store position of each element\n",
    "\n",
    "    for i in range(len(list1)):             # traversing the list\n",
    "        if list1[i] in frequency:           # checking if item is already in frequency dictionary\n",
    "            frequency[list1[i]] += 1        # increasing the frequency of current item    \n",
    "            position[list1[i]].append(i)    # appending the position of current item\n",
    "        else:\n",
    "            frequency[list1[i]] = 1         # registering a new encountered item in the frequency dictionary\n",
    "            position[list1[i]] = [i]        # registering a new encountered item in the position dictionary\n",
    "    return frequency, position              # returning frequency and position dictionary\n"
   ]
  },
  {
   "cell_type": "code",
   "execution_count": 34,
   "metadata": {},
   "outputs": [
    {
     "output_type": "stream",
     "name": "stdout",
     "text": [
      "Element\t\t Frequency\n1 \t\t 10\n11 \t\t 1\nElement\t\t Position\n1 \t\t [0, 1, 2, 3, 4, 5, 7, 8, 9, 10]\n11 \t\t [6]\n"
     ]
    }
   ],
   "source": [
    "x = input(\"Enter a list (Delimiter '\\b') :\")        # taking input from user\n",
    "\n",
    "l = [int(i) for i in \" \".join(x.split()).split(' ')]    # creating integer list from the string entered by user\n",
    "\n",
    "f, p = freq_pos(l)      # calling freq_pos function to get frequency and position of each element\n",
    "\n",
    "print(\"Element\\t\\t Frequency\")  # printing frequency of each element\n",
    "for i in f:\n",
    "    print(i,\"\\t\\t\",f[i])\n",
    "\n",
    "print(\"\\nElement\\t\\t Position\") # printing position(s) of each element\n",
    "for i in p:\n",
    "    print(i,\"\\t\\t\",p[i])    "
   ]
  }
 ]
}