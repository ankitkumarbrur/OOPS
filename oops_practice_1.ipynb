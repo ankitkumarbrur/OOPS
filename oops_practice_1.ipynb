{
 "metadata": {
  "language_info": {
   "codemirror_mode": {
    "name": "ipython",
    "version": 3
   },
   "file_extension": ".py",
   "mimetype": "text/x-python",
   "name": "python",
   "nbconvert_exporter": "python",
   "pygments_lexer": "ipython3",
   "version": "3.8.1-final"
  },
  "orig_nbformat": 2,
  "kernelspec": {
   "name": "python38132bitvenvvenv91270e11641b484ca834f7666afa2651",
   "display_name": "Python 3.8.1 32-bit ('venv': venv)"
  }
 },
 "nbformat": 4,
 "nbformat_minor": 2,
 "cells": [
  {
   "source": [
    "# imports"
   ],
   "cell_type": "markdown",
   "metadata": {}
  },
  {
   "cell_type": "code",
   "execution_count": 1,
   "metadata": {},
   "outputs": [],
   "source": [
    "from math import sqrt\n"
   ]
  },
  {
   "source": [
    "# Quadratic roots"
   ],
   "cell_type": "markdown",
   "metadata": {}
  },
  {
   "source": [
    "def root(a, b, c):  \n",
    "\n",
    "    d = b**2 - 4*a*c\n",
    "    sq_rt = sqrt(abs(d))\n",
    "\n",
    "    a2 = 2*a\n",
    "    b2 = -b\n",
    "\n",
    "    if d > 0:\n",
    "        print('Roots are real and different\\n')\n",
    "        print('X1 = ', (b2 + sq_rt)/a2)\n",
    "        print('X2 = ', (b2 + sq_rt)/a2)\n",
    "    \n",
    "    elif d == 0:\n",
    "        print('Roots are real and identical\\n')\n",
    "        print('X1 = ', b2/a2)\n",
    "        print('X2 = ', b2/a2)\n",
    "    \n",
    "    else:\n",
    "        print('Roots are imaginary\\n')\n",
    "        print('X1 = ', b2 / a2, '+i ', sq_rt/a2)\n",
    "        print('X2 = ', b2 / a2, '-i ', sq_rt/a2)"
   ],
   "cell_type": "code",
   "metadata": {},
   "execution_count": 2,
   "outputs": []
  },
  {
   "cell_type": "code",
   "execution_count": 3,
   "metadata": {},
   "outputs": [
    {
     "output_type": "stream",
     "name": "stdout",
     "text": [
      "Roots are imaginary\n\nX1 =  -3.0 +i  4.0\nX2 =  -3.0 -i  4.0\n"
     ]
    }
   ],
   "source": [
    "root(1,6,25)"
   ]
  },
  {
   "source": [
    "# Greatest of three numbers"
   ],
   "cell_type": "markdown",
   "metadata": {}
  },
  {
   "source": [
    "def greatest(a,b,c):\n",
    "    if(a == b == c):\n",
    "        print(\"Numbers are identical\")\n",
    "    elif (a >= b) and (a >= c):\n",
    "        print(\"The greatest number is\", a)\n",
    "        largest = a\n",
    "    elif (b >= a) and (b >= c):\n",
    "        print(\"The greatest number is\", b)\n",
    "    else:\n",
    "        print(\"The greatest number is\", c)\n"
   ],
   "cell_type": "code",
   "metadata": {},
   "execution_count": 4,
   "outputs": []
  },
  {
   "cell_type": "code",
   "execution_count": 5,
   "metadata": {},
   "outputs": [
    {
     "output_type": "stream",
     "name": "stdout",
     "text": [
      "The greatest number is 3\n"
     ]
    }
   ],
   "source": [
    "greatest(1,3,2)"
   ]
  },
  {
   "source": [
    "# Find Grades"
   ],
   "cell_type": "markdown",
   "metadata": {}
  },
  {
   "cell_type": "code",
   "execution_count": 6,
   "metadata": {},
   "outputs": [],
   "source": [
    "def findGrade(num):\n",
    "    if(num >= 90):\n",
    "        print(\"A\")\n",
    "\n",
    "    elif( num >= 80):\n",
    "        print(\"A-\")\n",
    "\n",
    "    elif( num >= 70):\n",
    "        print(\"B\")\n",
    "\n",
    "    elif( num >= 60):\n",
    "        print(\"B-\")\n",
    "\n",
    "    elif( num >= 50):\n",
    "        print(\"C\")\n",
    "\n",
    "    elif( num >= 40):\n",
    "        print(\"C-\")\n",
    "\n",
    "    else:\n",
    "        print(\"FAIL\")"
   ]
  },
  {
   "cell_type": "code",
   "execution_count": 7,
   "metadata": {},
   "outputs": [
    {
     "output_type": "stream",
     "name": "stdout",
     "text": [
      "A\n"
     ]
    }
   ],
   "source": [
    "findGrade(97)"
   ]
  },
  {
   "source": [
    "# Prime Number"
   ],
   "cell_type": "markdown",
   "metadata": {}
  },
  {
   "cell_type": "code",
   "execution_count": 8,
   "metadata": {},
   "outputs": [],
   "source": [
    "def isPrime(num):\n",
    "    prime = False\n",
    "    if num <= 1:\n",
    "        prime = False\n",
    "    elif num in (2,3):\n",
    "        prime = True\n",
    "    for i in range(2,int(sqrt(num))+1):\n",
    "        if (num % i) == 0:\n",
    "            prime = False\n",
    "            break\n",
    "        else:\n",
    "            prime = True\n",
    "    return prime"
   ]
  },
  {
   "cell_type": "code",
   "execution_count": 9,
   "metadata": {},
   "outputs": [],
   "source": [
    "def printprime(a,b):\n",
    "    for i in range(a,b):\n",
    "        if (isPrime(i)):\n",
    "            print(i,end=\" \")"
   ]
  },
  {
   "cell_type": "code",
   "execution_count": 10,
   "metadata": {},
   "outputs": [
    {
     "output_type": "stream",
     "name": "stdout",
     "text": [
      "2 3 5 7 11 13 17 19 23 29 31 37 41 43 47 53 59 61 67 71 73 79 83 89 97 "
     ]
    }
   ],
   "source": [
    "printprime(1,100)"
   ]
  }
 ]
}