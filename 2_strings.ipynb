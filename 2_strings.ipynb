{
 "metadata": {
  "language_info": {
   "codemirror_mode": {
    "name": "ipython",
    "version": 3
   },
   "file_extension": ".py",
   "mimetype": "text/x-python",
   "name": "python",
   "nbconvert_exporter": "python",
   "pygments_lexer": "ipython3",
   "version": "3.8.1-final"
  },
  "orig_nbformat": 2,
  "kernelspec": {
   "name": "python38132bit0f81a3e8780841afb635aac217ffc56d",
   "display_name": "Python 3.8.1 32-bit",
   "language": "python"
  }
 },
 "nbformat": 4,
 "nbformat_minor": 2,
 "cells": [
  {
   "source": [
    "# Menu\n",
    "1. Reverse of a string\n",
    "2. Count number of words in the string\n",
    "3. Count vowels, consonants and special characters in a string\n",
    "4. Given a string, reverse each word of given string. Example: Input: My Name is Bharti. O/p: yM emaN si itrahB.\n",
    "5. Return largest word in the string. Example: My name is Bharti. O/p: Bharti"
   ],
   "cell_type": "markdown",
   "metadata": {}
  },
  {
   "source": [
    "## 1. Reverse String"
   ],
   "cell_type": "markdown",
   "metadata": {}
  },
  {
   "cell_type": "code",
   "execution_count": 1,
   "metadata": {},
   "outputs": [],
   "source": [
    "def reverseString(str):\n",
    "    '''\n",
    "    Returns reversed string\n",
    "\n",
    "    Parameters:\n",
    "    num:    <string>, required\n",
    "            String you want to reverse\n",
    "\n",
    "    Returns:\n",
    "        <string> Reversed String\n",
    "    '''\n",
    "    return str[::-1]"
   ]
  },
  {
   "source": [
    "## 2. Count Words"
   ],
   "cell_type": "markdown",
   "metadata": {}
  },
  {
   "cell_type": "code",
   "execution_count": 2,
   "metadata": {},
   "outputs": [],
   "source": [
    "def countWords(str):\n",
    "    '''\n",
    "    returns number of words count in a string\n",
    "\n",
    "    Parameters:\n",
    "    str:    <string>, required\n",
    "            String you want count words of\n",
    "\n",
    "    Returns:\n",
    "        <int> Word count\n",
    "    '''\n",
    "    wordArray = []\n",
    "    word = ''\n",
    "    str+= ' '\n",
    "    for i in str:\n",
    "        if i == ' ':\n",
    "            if word != '':\n",
    "                wordArray.append(word)\n",
    "            word = ''\n",
    "        else:\n",
    "            word += i\n",
    "    return len(wordArray)"
   ]
  },
  {
   "source": [
    "## 3. Count Characters ('vowels', 'consonants', 'special')"
   ],
   "cell_type": "markdown",
   "metadata": {}
  },
  {
   "cell_type": "code",
   "execution_count": 3,
   "metadata": {},
   "outputs": [],
   "source": [
    "def countChar(str):\n",
    "    '''\n",
    "    returns a dictionary with charcter count grouped as vowels, consonants,\n",
    "    blankspaces, special characters and total.\n",
    "\n",
    "    Parameters:\n",
    "    str:    <string>, required\n",
    "            String you want count characters of\n",
    "\n",
    "    Returns:\n",
    "        <dict>  count of different characters\n",
    "    '''\n",
    "    char = {\n",
    "        'vowels' : 0,\n",
    "        'consonants' : 0,\n",
    "        'blankspaces':0,\n",
    "        'special' : 0,\n",
    "        'total': 0 }\n",
    "    for i in str:\n",
    "        char['total']+=1\n",
    "        if i in ('a','e','i','o','u','A','E','I','O','U'):\n",
    "            char['vowels']+=1\n",
    "        elif 'z' >= i >= 'a' or 'Z' >= i >= 'A':\n",
    "            char['consonants']+=1\n",
    "        elif i == ' ' :\n",
    "            char['blankspaces']+=1\n",
    "        else:\n",
    "            char['special']+=1\n",
    "    return char"
   ]
  },
  {
   "source": [
    "## 4. Reverse Words in a string"
   ],
   "cell_type": "markdown",
   "metadata": {}
  },
  {
   "cell_type": "code",
   "execution_count": 4,
   "metadata": {},
   "outputs": [],
   "source": [
    "def reverseWords(str):\n",
    "    '''\n",
    "    Returns a string with reversed words.\n",
    "\n",
    "    Parameters:\n",
    "    str:    <string>, required\n",
    "            String you want to reverse words of\n",
    "\n",
    "    Returns:\n",
    "        <string>  string with reversed words    \n",
    "    '''\n",
    "    reversed = ''\n",
    "    word = ''\n",
    "    str+= ' '\n",
    "    for i in str:\n",
    "        if i == ' ':\n",
    "            word = reverseString(word)\n",
    "            reversed += word + ' '\n",
    "            word = ''\n",
    "        else:\n",
    "            word += i\n",
    "    return reversed"
   ]
  },
  {
   "source": [
    "## 5. Largest word in a string"
   ],
   "cell_type": "markdown",
   "metadata": {}
  },
  {
   "cell_type": "code",
   "execution_count": 5,
   "metadata": {},
   "outputs": [],
   "source": [
    "def largestWord(str):\n",
    "    '''\n",
    "    Returns a list with largest words in the given string.\n",
    "\n",
    "    Parameters:\n",
    "    str:    <string>, required\n",
    "            String from which you want to find largest word(s)\n",
    "\n",
    "    Returns:\n",
    "        <list>  List with largest length word(s)\n",
    "    '''\n",
    "    largest = []\n",
    "    word = ''\n",
    "    str += ' '\n",
    "    for i in str:\n",
    "        if i == ' ':\n",
    "            if not largest or (len(word) > len(largest[0])):\n",
    "                largest = []\n",
    "                largest.append(word)\n",
    "            elif len(word) == len(largest[0]):\n",
    "                largest.append(word)\n",
    "            word = ''\n",
    "        else:\n",
    "            word += i\n",
    "    return largest"
   ]
  },
  {
   "source": [
    "## RUN"
   ],
   "cell_type": "markdown",
   "metadata": {}
  },
  {
   "cell_type": "code",
   "execution_count": 6,
   "metadata": {},
   "outputs": [],
   "source": [
    "str = input (\"Enter a String :\")"
   ]
  },
  {
   "cell_type": "code",
   "execution_count": 7,
   "metadata": {},
   "outputs": [
    {
     "output_type": "stream",
     "name": "stdout",
     "text": [
      "Reversed String:-        anaR itrahB si eman yM\nWords Count:-            5\nCharacters Count:-       {'vowels': 7, 'consonants': 11, 'blankspaces': 4, 'special': 0, 'total': 22}\nWords Reversed String:-  yM eman si itrahB anaR \nLargest Words:-          ['Bharti']\n"
     ]
    }
   ],
   "source": [
    "print(\"Reversed String:-        {}\".format(reverseString(str)))\n",
    "print(\"Words Count:-            {}\".format(countWords(str)))\n",
    "print(\"Characters Count:-       {}\".format(countChar(str)))\n",
    "print(\"Words Reversed String:-  {}\".format(reverseWords(str)))\n",
    "print(\"Largest Words:-          {}\".format(largestWord(str)))"
   ]
  }
 ]
}