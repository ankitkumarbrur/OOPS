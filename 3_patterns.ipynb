{
 "metadata": {
  "language_info": {
   "codemirror_mode": {
    "name": "ipython",
    "version": 3
   },
   "file_extension": ".py",
   "mimetype": "text/x-python",
   "name": "python",
   "nbconvert_exporter": "python",
   "pygments_lexer": "ipython3",
   "version": "3.8.1-final"
  },
  "orig_nbformat": 2,
  "kernelspec": {
   "name": "python38132bit0f81a3e8780841afb635aac217ffc56d",
   "display_name": "Python 3.8.1 32-bit",
   "language": "python"
  }
 },
 "nbformat": 4,
 "nbformat_minor": 2,
 "cells": [
  {
   "source": [
    "# Patterns"
   ],
   "cell_type": "markdown",
   "metadata": {}
  },
  {
   "cell_type": "code",
   "execution_count": 1,
   "metadata": {},
   "outputs": [],
   "source": [
    "m = int(input(\"Enter n:\"))"
   ]
  },
  {
   "cell_type": "code",
   "execution_count": 2,
   "metadata": {},
   "outputs": [
    {
     "output_type": "stream",
     "name": "stdout",
     "text": [
      "\n1 \n1 2 \n1 2 3 \n1 2 3 4 \n1 2 3 4 5 \n"
     ]
    }
   ],
   "source": [
    "'''\n",
    "Prints pattern :\n",
    "1 \n",
    "1 2 \n",
    "1 2 3 \n",
    "1 2 3 4 \n",
    "1 2 3 4 5 \n",
    "'''\n",
    "def pattern_a(n):\n",
    "    for i in range(n+1):\n",
    "        for j in range(i):\n",
    "            print(j+1, end=\" \")\n",
    "        print()\n",
    "\n",
    "pattern_a(m)"
   ]
  },
  {
   "cell_type": "code",
   "execution_count": 3,
   "metadata": {},
   "outputs": [
    {
     "output_type": "stream",
     "name": "stdout",
     "text": [
      "          \n        1 \n      2 1 2 \n    3 2 1 2 3 \n  4 3 2 1 2 3 4 \n5 4 3 2 1 2 3 4 5 \n"
     ]
    }
   ],
   "source": [
    "'''\n",
    "Prints pattern :\n",
    "        1 \n",
    "      2 1 2 \n",
    "    3 2 1 2 3 \n",
    "  4 3 2 1 2 3 4 \n",
    "5 4 3 2 1 2 3 4 5 \n",
    "'''\n",
    "def pattern_b(n):    \n",
    "    for i in range(n+1):\n",
    "        print(\" \"*(2*(n-i)), end = '')\n",
    "        for j in range(i, 1, -1):\n",
    "            print(j, end = \" \")\n",
    "        for j in range(1, i+1):\n",
    "            print(j, end =\" \")\n",
    "        print()\n",
    "\n",
    "pattern_b(m)\n"
   ]
  },
  {
   "cell_type": "code",
   "execution_count": 4,
   "metadata": {},
   "outputs": [
    {
     "output_type": "stream",
     "name": "stdout",
     "text": [
      "5 4 3 2 1 \n4 3 2 1 \n3 2 1 \n2 1 \n1 \n"
     ]
    }
   ],
   "source": [
    "'''\n",
    "Prints pattern :\n",
    "5 4 3 2 1 \n",
    "4 3 2 1 \n",
    "3 2 1 \n",
    "2 1 \n",
    "1 \n",
    "'''\n",
    "def pattern_c(n):\n",
    "    for i in range(n,0,-1):\n",
    "        for j in range(i,0,-1):\n",
    "            print(j, end=\" \")\n",
    "        print()\n",
    "\n",
    "pattern_c(m)\n"
   ]
  },
  {
   "cell_type": "code",
   "execution_count": 5,
   "metadata": {},
   "outputs": [
    {
     "output_type": "stream",
     "name": "stdout",
     "text": [
      "\n1 \n2 2 \n3 3 3 \n4 4 4 4 \n5 5 5 5 5 \n"
     ]
    }
   ],
   "source": [
    "'''\n",
    "Prints pattern :\n",
    "1 \n",
    "2 2 \n",
    "3 3 3 \n",
    "4 4 4 4 \n",
    "5 5 5 5 5 \n",
    "'''\n",
    "def pattern_d(n):\n",
    "    for i in range(n+1):\n",
    "        print((str(i)+' ')*i)\n",
    "\n",
    "pattern_d(m)"
   ]
  },
  {
   "cell_type": "code",
   "execution_count": 6,
   "metadata": {},
   "outputs": [
    {
     "output_type": "stream",
     "name": "stdout",
     "text": [
      " 1 2 3 4 5 \n   2 3 4 5 \n     3 4 5 \n       4 5 \n         5 \n"
     ]
    }
   ],
   "source": [
    "'''\n",
    "Prints pattern :\n",
    " 1 2 3 4 5 \n",
    "   2 3 4 5 \n",
    "     3 4 5 \n",
    "       4 5 \n",
    "         5 \n",
    "'''\n",
    "def pattern_e(n):\n",
    "    for i in range(1,n+1):\n",
    "        print(\" \"*(2*i-1), end='')\n",
    "        for j in range(i, n+1):\n",
    "            print(j, end=\" \")\n",
    "        print()\n",
    "\n",
    "pattern_e(m)"
   ]
  },
  {
   "cell_type": "code",
   "execution_count": 7,
   "metadata": {},
   "outputs": [
    {
     "output_type": "stream",
     "name": "stdout",
     "text": [
      "* * * * * \n*       * \n*       * \n*       * \n* * * * * \n"
     ]
    }
   ],
   "source": [
    "'''\n",
    "Prints pattern :\n",
    "\n",
    "* * * * * \n",
    "*       * \n",
    "*       * \n",
    "*       * \n",
    "* * * * *  \n",
    "'''\n",
    "def pattern_f(n):\n",
    "    for i in range(n):\n",
    "        for j in range(n):\n",
    "            print('*',end = ' ') if (i == 0 or i == n-1 or j == 0 or j == n-1) else print(' ',end = ' ')\n",
    "            \n",
    "        print()\n",
    "\n",
    "pattern_f(m)\n"
   ]
  },
  {
   "cell_type": "code",
   "execution_count": 8,
   "metadata": {},
   "outputs": [
    {
     "output_type": "stream",
     "name": "stdout",
     "text": [
      "* * * * * \n* * * * * \n* * * * * \n* * * * * \n* * * * * \n"
     ]
    }
   ],
   "source": [
    "'''\n",
    "Prints pattern :\n",
    "\n",
    "* * * * * \n",
    "* * * * * \n",
    "* * * * * \n",
    "* * * * * \n",
    "* * * * * \n",
    "'''\n",
    "def pattern_g(n):\n",
    "    for i in range(n):\n",
    "        print('* '*n)\n",
    "\n",
    "pattern_g(m)\n"
   ]
  },
  {
   "cell_type": "code",
   "execution_count": 9,
   "metadata": {},
   "outputs": [
    {
     "output_type": "stream",
     "name": "stdout",
     "text": [
      "          \n        * \n      * * * \n    * * * * * \n  * * * * * * * \n* * * * * * * * * \n"
     ]
    }
   ],
   "source": [
    "'''\n",
    "Prints pattern :\n",
    "\n",
    "        * \n",
    "      * * * \n",
    "    * * * * * \n",
    "  * * * * * * * \n",
    "* * * * * * * * * \n",
    "'''\n",
    "def pattern_h(n):\n",
    "    for i in range(n+1):\n",
    "        print(\" \"*(2*(n-i)),'* '*(2*i-1), sep = '')\n",
    "\n",
    "pattern_h(m)"
   ]
  },
  {
   "cell_type": "code",
   "execution_count": 10,
   "metadata": {},
   "outputs": [
    {
     "output_type": "stream",
     "name": "stdout",
     "text": [
      " * * * * * * * * * \n   *           * \n     *       * \n       *   * \n         * \n"
     ]
    }
   ],
   "source": [
    "'''\n",
    "Prints pattern :\n",
    "\n",
    " * * * * * * * * * \n",
    "   *           * \n",
    "     *       * \n",
    "       *   * \n",
    "         * \n",
    "'''\n",
    "def pattern_i(n):\n",
    "    for i in range(1, n+1):\n",
    "        print(\" \"*(2*i-1), end='')\n",
    "        for j in range(i, n+1):\n",
    "            print('*', end=\" \") if (i == 1 or j == i) else print(' ', end=\" \")\n",
    "            \n",
    "        for j in range(i, n):\n",
    "            print('*', end=\" \") if (i == 1 or j == n-1) else print(' ', end=\" \")\n",
    "                \n",
    "        print()\n",
    "\n",
    "pattern_i(m)"
   ]
  },
  {
   "cell_type": "code",
   "execution_count": 11,
   "metadata": {},
   "outputs": [
    {
     "output_type": "stream",
     "name": "stdout",
     "text": [
      "* * * * * * * * * \n  * * * * * * * \n    * * * * * \n      * * * \n        * \n"
     ]
    }
   ],
   "source": [
    "'''\n",
    "Prints pattern :\n",
    "\n",
    " * * * * * * * * * \n",
    "   * * * * * * * \n",
    "     * * * * * \n",
    "       * * * \n",
    "         * \n",
    "'''\n",
    "def pattern_j(n):\n",
    "    for i in range(n):\n",
    "        print(\" \"*(2*i), end='')\n",
    "        print('* '* (2*(n-i)-1))\n",
    "\n",
    "pattern_j(m)"
   ]
  },
  {
   "cell_type": "code",
   "execution_count": 12,
   "metadata": {},
   "outputs": [
    {
     "output_type": "stream",
     "name": "stdout",
     "text": [
      "         * \n       *   * \n     *       * \n   *           * \n *               * \n   *           * \n     *       * \n       *   * \n         * \n"
     ]
    }
   ],
   "source": [
    "'''\n",
    "Prints pattern :\n",
    "\n",
    "         * \n",
    "       *   * \n",
    "     *       * \n",
    "   *           * \n",
    " *               * \n",
    "   *           * \n",
    "     *       * \n",
    "       *   * \n",
    "         * \n",
    "'''\n",
    "def pattern_k(n):\n",
    "    for i in range(1,n):\n",
    "        print(\" \"*(2*(n-i)+1), end = '')\n",
    "        for j in range(i, 1, -1):\n",
    "            print('*', end=\" \") if j == i else print(' ', end=\" \")\n",
    "\n",
    "        for j in range(1, i+1):\n",
    "            print('*', end=\" \") if  j == i else print(' ', end=\" \")\n",
    "\n",
    "        print()\n",
    "        \n",
    "    for i in range(1, n+1):\n",
    "        print(\" \"*(2*i-1), end='')\n",
    "        for j in range(i, n+1):\n",
    "            print('*', end=\" \") if j == i else print(' ', end=\" \")\n",
    "\n",
    "        for j in range(i, n):\n",
    "            print('*', end=\" \") if j == n-1 else print(' ', end=\" \")\n",
    "                \n",
    "        print()\n",
    "           \n",
    "\n",
    "pattern_k(m)"
   ]
  },
  {
   "cell_type": "code",
   "execution_count": 13,
   "metadata": {},
   "outputs": [
    {
     "output_type": "stream",
     "name": "stdout",
     "text": [
      "         * \n       * * * \n     * * * * * \n   * * * * * * * \n * * * * * * * * * \n   * * * * * * * \n     * * * * * \n       * * * \n         * \n"
     ]
    }
   ],
   "source": [
    "'''\n",
    "Prints pattern :\n",
    "\n",
    "         * \n",
    "       * * * \n",
    "     * * * * * \n",
    "   * * * * * * * \n",
    " * * * * * * * * * \n",
    "   * * * * * * * \n",
    "     * * * * * \n",
    "       * * * \n",
    "         * \n",
    "'''\n",
    "def pattern_l(n):\n",
    "    for i in range(1,n,1):\n",
    "        print(\" \"*(2*(n-i)+1),'* '*(2*i-1), sep = '')\n",
    "    for i in range(1, n+1):\n",
    "        print(\" \"*(2*i-1), '* '*(2*(n-i) +1), sep='')\n",
    "\n",
    "pattern_l(m)"
   ]
  },
  {
   "cell_type": "code",
   "execution_count": 14,
   "metadata": {},
   "outputs": [
    {
     "output_type": "stream",
     "name": "stdout",
     "text": [
      "$ $ $ $ $ \n  $ $ $ $ \n    $ $ $ \n      $ $ \n        $ \n"
     ]
    }
   ],
   "source": [
    "'''\n",
    "Prints pattern :\n",
    "\n",
    " $ $ $ $ $ \n",
    "   $ $ $ $ \n",
    "     $ $ $ \n",
    "       $ $ \n",
    "         $ \n",
    "'''\n",
    "def pattern_m(n):\n",
    "    for i in range(n):\n",
    "        print(\" \"*(2*i),'$ '*(n-i) ,sep='')\n",
    "\n",
    "pattern_m(m)"
   ]
  },
  {
   "cell_type": "code",
   "execution_count": 15,
   "metadata": {},
   "outputs": [
    {
     "output_type": "stream",
     "name": "stdout",
     "text": [
      "          # \n        # # \n      # # # \n    # # # # \n  # # # # # \n"
     ]
    }
   ],
   "source": [
    "'''\n",
    "Prints pattern :\n",
    "\n",
    "          #\n",
    "        # #\n",
    "      # # #\n",
    "    # # # #\n",
    "  # # # # #\n",
    "'''\n",
    "def pattern_n(n):\n",
    "    for i in range(n):\n",
    "        print(\" \" * (2*(n-i)),'# ' * (i+1), sep = '')\n",
    "\n",
    "pattern_n(m)"
   ]
  }
 ]
}