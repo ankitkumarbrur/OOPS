{
 "metadata": {
  "language_info": {
   "codemirror_mode": {
    "name": "ipython",
    "version": 3
   },
   "file_extension": ".py",
   "mimetype": "text/x-python",
   "name": "python",
   "nbconvert_exporter": "python",
   "pygments_lexer": "ipython3",
   "version": "3.8.1-final"
  },
  "orig_nbformat": 2,
  "kernelspec": {
   "name": "python38132bitvenvvenv91270e11641b484ca834f7666afa2651",
   "display_name": "Python 3.8.1 32-bit ('venv': venv)",
   "language": "python"
  }
 },
 "nbformat": 4,
 "nbformat_minor": 2,
 "cells": [
  {
   "cell_type": "code",
   "execution_count": 2,
   "metadata": {},
   "outputs": [],
   "source": [
    "class Stack:\n",
    "    def __init__(self):\n",
    "        self.stack = []\n",
    "        self.top = -1\n",
    "\n",
    "    def __str__(self):\n",
    "        return 'Stack('+', '.join(map(str,self.stack))+' <--Top)'\n",
    "\n",
    "    def clear(self):\n",
    "        self.stack.clear()\n",
    "        self.top = 0\n",
    "\n",
    "    def push(self,item): \n",
    "        self.stack.append(item)\n",
    "        self.top += 1\n",
    "    \n",
    "    def pop(self):\n",
    "        if self.top == -1:\n",
    "            raise Exception(\"UndeflowError: The stack is empty can't pop\")\n",
    "        \n",
    "        item = self.stack.pop()\n",
    "        self.top -= 1\n",
    "        return item\n",
    "\n",
    "    def isEmpty(self):\n",
    "        return True if self.top == -1 else False\n",
    "\n",
    "    def onTop(self):\n",
    "        if self.isEmpty():\n",
    "            raise Exception(\"UndeflowError: The stack is empty nothing on top\")\n",
    "        return self.stack[self.top]"
   ]
  },
  {
   "cell_type": "code",
   "execution_count": 63,
   "metadata": {},
   "outputs": [],
   "source": [
    "def postfix(exp):\n",
    "    \n",
    "    op_stack = Stack()\n",
    "    post_exp = ''\n",
    "\n",
    "    for i in exp:\n",
    "        if i.isnumeric():\n",
    "            post_exp += i\n",
    "        \n",
    "        elif i == ' ':\n",
    "            pass\n",
    "\n",
    "        elif op_stack.isEmpty():\n",
    "            op_stack.push(i)\n",
    "\n",
    "        elif i in ('[','(','{'):\n",
    "            op_stack.push(i)\n",
    "\n",
    "        elif i in (']',')','}'):\n",
    "            closing = {']':'[','}':'{',')':'('}\n",
    "            while op_stack.onTop() != closing[i]:\n",
    "                post_exp += op_stack.pop()\n",
    "            op_stack.pop()\n",
    "\n",
    "        elif i == '^':\n",
    "            op_stack.push(i)\n",
    "\n",
    "        elif i == '/':\n",
    "            while not op_stack.isEmpty() and op_stack.onTop() in ('^'):\n",
    "                post_exp += op_stack.pop()\n",
    "            op_stack.push(i)\n",
    "\n",
    "        elif i == '*':\n",
    "            while not op_stack.isEmpty() and op_stack.onTop() in ('^','/'):\n",
    "                post_exp += op_stack.pop()\n",
    "            op_stack.push(i)\n",
    "\n",
    "        elif i in ('+','-'):\n",
    "            while not op_stack.isEmpty() and op_stack.onTop() in ('^','/','*'):\n",
    "                post_exp += op_stack.pop()\n",
    "            op_stack.push(i)\n",
    "\n",
    "    while not op_stack.isEmpty():\n",
    "        post_exp += op_stack.pop()\n",
    "\n",
    "    return post_exp"
   ]
  },
  {
   "cell_type": "code",
   "execution_count": 47,
   "metadata": {},
   "outputs": [],
   "source": [
    "def prefix(exp):\n",
    "    \n",
    "    op_stack = Stack()\n",
    "    post_exp = ''\n",
    "\n",
    "    for i in exp[::-1]:\n",
    "        if i.isnumeric():\n",
    "            post_exp += i\n",
    "\n",
    "        elif i == ' ':\n",
    "            pass\n",
    "        \n",
    "        elif op_stack.isEmpty():\n",
    "            op_stack.push(i)\n",
    "\n",
    "        elif i in (']',')','}'):\n",
    "            op_stack.push(i)\n",
    "\n",
    "        elif i in ('[','(','{'):\n",
    "            closing = {'[':']','{':'}','(':')'}\n",
    "            while op_stack.onTop() != closing[i]:\n",
    "                post_exp += op_stack.pop()\n",
    "            op_stack.pop()\n",
    "\n",
    "        elif i == '^':\n",
    "            op_stack.push(i)\n",
    "\n",
    "        elif i == '/':\n",
    "            while not op_stack.isEmpty() and op_stack.onTop() in ('^'):\n",
    "                post_exp += op_stack.pop()\n",
    "            op_stack.push(i)\n",
    "\n",
    "        elif i == '*':\n",
    "            while not op_stack.isEmpty() and op_stack.onTop() in ('^','/'):\n",
    "                post_exp += op_stack.pop()\n",
    "            op_stack.push(i)\n",
    "\n",
    "        elif i in ('+','-'):\n",
    "            while not op_stack.isEmpty() and op_stack.onTop() in ('^','/','*'):\n",
    "                post_exp += op_stack.pop()\n",
    "            op_stack.push(i)\n",
    "\n",
    "    while not op_stack.isEmpty():\n",
    "        post_exp += op_stack.pop()\n",
    "\n",
    "    return post_exp"
   ]
  },
  {
   "cell_type": "code",
   "execution_count": 36,
   "metadata": {},
   "outputs": [],
   "source": [
    "def solvePostfix(exp):\n",
    "    sol_stack = Stack()\n",
    "    for i in exp:\n",
    "        if i.isnumeric():\n",
    "            sol_stack.push(i)\n",
    "        else:\n",
    "            b = str(sol_stack.pop())\n",
    "            a = str(sol_stack.pop())\n",
    "            sol_stack.push(eval(a+i+b))\n",
    "    return sol_stack.pop()"
   ]
  },
  {
   "cell_type": "code",
   "execution_count": null,
   "metadata": {},
   "outputs": [],
   "source": [
    "def solvePostfix(exp):\n",
    "    sol_stack = Stack()\n",
    "    for i in exp:\n",
    "        if i.isnumeric():\n",
    "            sol_stack.push(i)\n",
    "        else:\n",
    "            b = str(sol_stack.pop())\n",
    "            a = str(sol_stack.pop())\n",
    "            sol_stack.push(eval(a+i+b))\n",
    "    return sol_stack.pop()"
   ]
  },
  {
   "cell_type": "code",
   "execution_count": 43,
   "metadata": {},
   "outputs": [
    {
     "output_type": "execute_result",
     "data": {
      "text/plain": [
       "'3637*/*'"
      ]
     },
     "metadata": {},
     "execution_count": 43
    }
   ],
   "source": [
    "postfix('3*6/3*7')"
   ]
  },
  {
   "cell_type": "code",
   "execution_count": 68,
   "metadata": {},
   "outputs": [
    {
     "output_type": "execute_result",
     "data": {
      "text/plain": [
       "'++2**3/6278'"
      ]
     },
     "metadata": {},
     "execution_count": 68
    }
   ],
   "source": [
    "prefix('2+3*6/2*7+8')[::-1]"
   ]
  },
  {
   "cell_type": "code",
   "execution_count": 53,
   "metadata": {},
   "outputs": [
    {
     "output_type": "execute_result",
     "data": {
      "text/plain": [
       "73.0"
      ]
     },
     "metadata": {},
     "execution_count": 53
    }
   ],
   "source": [
    "solvePostfix(postfix('2+3*6/2*7+8'))"
   ]
  },
  {
   "cell_type": "code",
   "execution_count": 66,
   "metadata": {},
   "outputs": [
    {
     "output_type": "execute_result",
     "data": {
      "text/plain": [
       "45"
      ]
     },
     "metadata": {},
     "execution_count": 66
    }
   ],
   "source": [
    "solvePostfix(postfix('(3 * 5) + (5 * 6)'))"
   ]
  }
 ]
}