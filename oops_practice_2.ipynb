{
 "metadata": {
  "language_info": {
   "codemirror_mode": {
    "name": "ipython",
    "version": 3
   },
   "file_extension": ".py",
   "mimetype": "text/x-python",
   "name": "python",
   "nbconvert_exporter": "python",
   "pygments_lexer": "ipython3",
   "version": "3.8.1-final"
  },
  "orig_nbformat": 2,
  "kernelspec": {
   "name": "python38132bit0f81a3e8780841afb635aac217ffc56d",
   "display_name": "Python 3.8.1 32-bit"
  }
 },
 "nbformat": 4,
 "nbformat_minor": 2,
 "cells": [
  {
   "source": [
    "# Menu\n",
    "1. Reverse of a string\n",
    "2. Count number of words in the string\n",
    "3. Count vowels, consonants and special characters in a string\n",
    "4. Given a string, reverse each word of given string. Example: Input: My Name is Bharti. O/p: yM emaN si itrahB.\n",
    "5. Return largest word in the string. Example: My name is Bharti. O/p: Bharti"
   ],
   "cell_type": "markdown",
   "metadata": {}
  },
  {
   "cell_type": "code",
   "execution_count": 1,
   "metadata": {},
   "outputs": [],
   "source": [
    "def length(str):\n",
    "    count = 0\n",
    "    for i in str:\n",
    "        count += 1\n",
    "    return count"
   ]
  },
  {
   "source": [
    "## 1. Reverse String"
   ],
   "cell_type": "markdown",
   "metadata": {}
  },
  {
   "cell_type": "code",
   "execution_count": 2,
   "metadata": {},
   "outputs": [],
   "source": [
    "def reverseString(str):\n",
    "    return str[::-1]"
   ]
  },
  {
   "source": [
    "## 2. Count Words"
   ],
   "cell_type": "markdown",
   "metadata": {}
  },
  {
   "cell_type": "code",
   "execution_count": 3,
   "metadata": {},
   "outputs": [],
   "source": [
    "def countWords(str):\n",
    "    wordArray = []\n",
    "    word = ''\n",
    "    for i in str:\n",
    "        if i == ' ':\n",
    "            if word != '':\n",
    "                wordArray.append(word)\n",
    "            word = ''\n",
    "        else:\n",
    "            word += i\n",
    "    if word != '':\n",
    "        wordArray.append(word)\n",
    "    return length(wordArray)"
   ]
  },
  {
   "source": [
    "## 3. Count Characters ('vowels', 'consonants', 'special')"
   ],
   "cell_type": "markdown",
   "metadata": {}
  },
  {
   "cell_type": "code",
   "execution_count": 4,
   "metadata": {},
   "outputs": [],
   "source": [
    "def countChar(str):\n",
    "    char = {\n",
    "        'vowels' : 0,\n",
    "        'consonants' : 0,\n",
    "        'special' : 0,\n",
    "        'total': 0 }\n",
    "    for i in str:\n",
    "        char['total']+=1\n",
    "        if i in ('a','e','i','o','u','A','E','I','O','U'):\n",
    "            char['vowels']+=1\n",
    "        elif 'z' >= i >= 'a' or 'Z' >= i >= 'A':\n",
    "            char['consonants']+=1\n",
    "        else:\n",
    "            char['special']+=1\n",
    "    return char"
   ]
  },
  {
   "source": [
    "## 4. Reverse Words in a string"
   ],
   "cell_type": "markdown",
   "metadata": {}
  },
  {
   "cell_type": "code",
   "execution_count": 5,
   "metadata": {},
   "outputs": [],
   "source": [
    "def reverseWords(str):\n",
    "    reversed = ''\n",
    "    word = ''\n",
    "    for i in str:\n",
    "        if i == ' ':\n",
    "            word = reverseString(word)\n",
    "            reversed += word + ' '\n",
    "            word = ''\n",
    "        else:\n",
    "            word += i\n",
    "    if word != '':\n",
    "        word = reverseString(word)\n",
    "        reversed += word\n",
    "    return reversed"
   ]
  },
  {
   "source": [
    "## 5. Largest word in a string"
   ],
   "cell_type": "markdown",
   "metadata": {}
  },
  {
   "cell_type": "code",
   "execution_count": 6,
   "metadata": {},
   "outputs": [],
   "source": [
    "def largestWord(str):\n",
    "    largest = ''\n",
    "    word = ''\n",
    "    for i in str:\n",
    "        if i == ' ':\n",
    "            if length(word) > length(largest):\n",
    "                largest = word\n",
    "            word = ''\n",
    "        else:\n",
    "            word += i\n",
    "    if length(word) > length(largest):\n",
    "        largest = word\n",
    "    return largest"
   ]
  },
  {
   "source": [
    "## RUN"
   ],
   "cell_type": "markdown",
   "metadata": {}
  },
  {
   "cell_type": "code",
   "execution_count": 7,
   "metadata": {},
   "outputs": [
    {
     "output_type": "stream",
     "name": "stdout",
     "text": [
      "Reversed String:-        itrahB si emaN yM\nWords Count:-            4\nCharacters Count:-       {'vowels': 5, 'consonants': 9, 'special': 3, 'total': 17}\nWords Reversed String:-  yM emaN si itrahB\nLargest Word:-           Bharti\n"
     ]
    }
   ],
   "source": [
    "str = \"My Name is Bharti\"\n",
    "print(\"Reversed String:-        {}\".format(reverseString(str)))\n",
    "print(\"Words Count:-            {}\".format(countWords(str)))\n",
    "print(\"Characters Count:-       {}\".format(countChar(str)))\n",
    "print(\"Words Reversed String:-  {}\".format(reverseWords(str)))\n",
    "print(\"Largest Word:-           {}\".format(largestWord(str)))"
   ]
  }
 ]
}