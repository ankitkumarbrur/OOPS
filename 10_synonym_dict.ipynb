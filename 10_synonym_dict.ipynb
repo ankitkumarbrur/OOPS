{
 "metadata": {
  "language_info": {
   "codemirror_mode": {
    "name": "ipython",
    "version": 3
   },
   "file_extension": ".py",
   "mimetype": "text/x-python",
   "name": "python",
   "nbconvert_exporter": "python",
   "pygments_lexer": "ipython3",
   "version": "3.8.1-final"
  },
  "orig_nbformat": 2,
  "kernelspec": {
   "name": "python38132bitvenvvenv91270e11641b484ca834f7666afa2651",
   "display_name": "Python 3.8.1 32-bit ('venv': venv)",
   "language": "python"
  }
 },
 "nbformat": 4,
 "nbformat_minor": 2,
 "cells": [
  {
   "source": [
    "# MENU\n",
    "Mr. X is learning English and trying to improve his vocabulary. So, he started created his own diary \"myDict\" with one word and its meaning. He was happy to learn new words. But one day, someone asked him synonym of a word, he was able to tell the meaning but not able to tell synonyms. So, he decided to create one more diary \"synonym_dict\" where he started collecting all words with the same meaning and write all words on a single page. But he found it is very tedious task to read and create diary manually. Would you like to help Mr. X to create synonym_dict with a programme. ```[Hint: Use dictionary to create diaries]```. \n",
    "\n",
    "1. Provide solution without recursion\n",
    "2. Provide solution with recursion\n"
   ],
   "cell_type": "markdown",
   "metadata": {}
  },
  {
   "source": [
    "# Functions"
   ],
   "cell_type": "markdown",
   "metadata": {}
  },
  {
   "cell_type": "code",
   "execution_count": 2,
   "metadata": {},
   "outputs": [],
   "source": [
    "myDict = {\n",
    "    \"a\" : \"x\",\n",
    "    \"b\" : \"x\",\n",
    "    \"c\" : \"x\",\n",
    "}"
   ]
  },
  {
   "cell_type": "code",
   "execution_count": 3,
   "metadata": {},
   "outputs": [],
   "source": [
    "def create_synonym_dict(myDict):\n",
    "    synonym_dict = dict()\n",
    "\n",
    "    for key,value in myDict.items():\n",
    "        if value not in synonym_dict:\n",
    "            synonym_dict[value] = list(key)\n",
    "        else:\n",
    "            synonym_dict[value] += key\n",
    "    return synonym_dict"
   ]
  },
  {
   "cell_type": "code",
   "execution_count": 4,
   "metadata": {},
   "outputs": [
    {
     "output_type": "execute_result",
     "data": {
      "text/plain": [
       "{'x': ['a', 'b', 'c']}"
      ]
     },
     "metadata": {},
     "execution_count": 4
    }
   ],
   "source": [
    "create_synonym_dict(myDict)"
   ]
  }
 ]
}