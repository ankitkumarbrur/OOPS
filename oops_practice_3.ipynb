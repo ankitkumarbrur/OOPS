{
 "metadata": {
  "language_info": {
   "codemirror_mode": {
    "name": "ipython",
    "version": 3
   },
   "file_extension": ".py",
   "mimetype": "text/x-python",
   "name": "python",
   "nbconvert_exporter": "python",
   "pygments_lexer": "ipython3",
   "version": "3.8.1-final"
  },
  "orig_nbformat": 2,
  "kernelspec": {
   "name": "python38132bit0f81a3e8780841afb635aac217ffc56d",
   "display_name": "Python 3.8.1 32-bit"
  }
 },
 "nbformat": 4,
 "nbformat_minor": 2,
 "cells": [
  {
   "source": [
    "# Patterns"
   ],
   "cell_type": "markdown",
   "metadata": {}
  },
  {
   "cell_type": "code",
   "execution_count": 1,
   "metadata": {},
   "outputs": [],
   "source": [
    "def pattern_a(n):\n",
    "    n += 2\n",
    "    for i in range(1,n):\n",
    "        for j in range(1,i):\n",
    "            print(j, end=\" \")\n",
    "        print()\n"
   ]
  },
  {
   "cell_type": "code",
   "execution_count": 2,
   "metadata": {},
   "outputs": [
    {
     "output_type": "stream",
     "name": "stdout",
     "text": [
      "\n1 \n1 2 \n1 2 3 \n1 2 3 4 \n1 2 3 4 5 \n"
     ]
    }
   ],
   "source": [
    "pattern_a(5)"
   ]
  },
  {
   "cell_type": "code",
   "execution_count": 3,
   "metadata": {},
   "outputs": [],
   "source": [
    "def pattern_b(n):\n",
    "    n += 1\n",
    "    for i in range(1,n):\n",
    "        for j in range(i, 2*n-i):\n",
    "            print(end=\" \")\n",
    "        for j in range(i,1,-1):\n",
    "            print(j, end= \" \")\n",
    "        for j in range(1,i+1):\n",
    "            print(j, end=\" \")\n",
    "        print()\n"
   ]
  },
  {
   "cell_type": "code",
   "execution_count": 4,
   "metadata": {},
   "outputs": [
    {
     "output_type": "stream",
     "name": "stdout",
     "text": [
      "          1 \n        2 1 2 \n      3 2 1 2 3 \n    4 3 2 1 2 3 4 \n  5 4 3 2 1 2 3 4 5 \n"
     ]
    }
   ],
   "source": [
    "pattern_b(5)"
   ]
  },
  {
   "cell_type": "code",
   "execution_count": 5,
   "metadata": {},
   "outputs": [],
   "source": [
    "def pattern_c(n):\n",
    "    for i in range(n,0,-1):\n",
    "        for j in range(i,0,-1):\n",
    "            print(j, end=\" \")\n",
    "        print()\n"
   ]
  },
  {
   "cell_type": "code",
   "execution_count": 6,
   "metadata": {},
   "outputs": [
    {
     "output_type": "stream",
     "name": "stdout",
     "text": [
      "5 4 3 2 1 \n4 3 2 1 \n3 2 1 \n2 1 \n1 \n"
     ]
    }
   ],
   "source": [
    "pattern_c(5)"
   ]
  },
  {
   "cell_type": "code",
   "execution_count": 7,
   "metadata": {},
   "outputs": [],
   "source": [
    "def pattern_d(n):\n",
    "    n += 1\n",
    "    for i in range(1,n):\n",
    "        for j in range(0,i):\n",
    "            print(i, end=\" \")\n",
    "        print()\n"
   ]
  },
  {
   "cell_type": "code",
   "execution_count": 8,
   "metadata": {},
   "outputs": [
    {
     "output_type": "stream",
     "name": "stdout",
     "text": [
      "1 \n2 2 \n3 3 3 \n4 4 4 4 \n5 5 5 5 5 \n"
     ]
    }
   ],
   "source": [
    "pattern_d(5)"
   ]
  },
  {
   "cell_type": "code",
   "execution_count": 68,
   "metadata": {},
   "outputs": [],
   "source": [
    "def pattern_e(n):\n",
    "    for i in range(n,0,-1):\n",
    "        for j in range(i, 2*n-i):\n",
    "            print(end=\" \")\n",
    "        for j in range(n-i+1,n+1):\n",
    "            print(j, end=\" \")\n",
    "        print()\n"
   ]
  },
  {
   "cell_type": "code",
   "execution_count": 69,
   "metadata": {},
   "outputs": [
    {
     "output_type": "stream",
     "name": "stdout",
     "text": [
      "1 2 3 4 5 \n  2 3 4 5 \n    3 4 5 \n      4 5 \n        5 \n"
     ]
    }
   ],
   "source": [
    "pattern_e(5)"
   ]
  },
  {
   "cell_type": "code",
   "execution_count": 48,
   "metadata": {},
   "outputs": [],
   "source": [
    "def pattern_f(n):\n",
    "    n = n+1\n",
    "    for i in range(1,n):\n",
    "        for j in range(1,n):\n",
    "            if i == 1 or i == n-1:\n",
    "                print('*',end = ' ')\n",
    "            elif j == 1 or j == n-1:\n",
    "                print('*',end = ' ')\n",
    "            else:\n",
    "                print(' ',end = ' ')   \n",
    "             \n",
    "        print()\n"
   ]
  },
  {
   "cell_type": "code",
   "execution_count": 12,
   "metadata": {},
   "outputs": [
    {
     "output_type": "stream",
     "name": "stdout",
     "text": [
      "* * * * * \n",
      "*       * \n",
      "*       * \n",
      "*       * \n",
      "* * * * * \n"
     ]
    }
   ],
   "source": [
    "pattern_f(5)"
   ]
  },
  {
   "cell_type": "code",
   "execution_count": 13,
   "metadata": {},
   "outputs": [],
   "source": [
    "def pattern_g(n):\n",
    "    n = n+1\n",
    "    for i in range(1,n):\n",
    "        for j in range(1,n):\n",
    "                print('*',end = ' ') \n",
    "             \n",
    "        print()\n"
   ]
  },
  {
   "cell_type": "code",
   "execution_count": 14,
   "metadata": {},
   "outputs": [
    {
     "output_type": "stream",
     "name": "stdout",
     "text": [
      "* * * * * \n* * * * * \n* * * * * \n* * * * * \n* * * * * \n"
     ]
    }
   ],
   "source": [
    "pattern_g(5)"
   ]
  },
  {
   "cell_type": "code",
   "execution_count": 15,
   "metadata": {},
   "outputs": [],
   "source": [
    "def pattern_h(n):\n",
    "    n += 1\n",
    "    for i in range(1,n):\n",
    "        for j in range(i, 2*n-i):\n",
    "            print(end=\" \")\n",
    "        for j in range(i,1,-1):\n",
    "            print('*', end= \" \")\n",
    "        for j in range(1,i+1):\n",
    "            print('*', end=\" \")\n",
    "        print()\n"
   ]
  },
  {
   "cell_type": "code",
   "execution_count": 16,
   "metadata": {},
   "outputs": [
    {
     "output_type": "stream",
     "name": "stdout",
     "text": [
      "          * \n        * * * \n      * * * * * \n    * * * * * * * \n  * * * * * * * * * \n"
     ]
    }
   ],
   "source": [
    "pattern_h(5)"
   ]
  },
  {
   "cell_type": "code",
   "execution_count": 17,
   "metadata": {},
   "outputs": [],
   "source": [
    "def pattern_i(n):\n",
    "    for i in range(n,0,-1):\n",
    "        for j in range(i, 2*n-i):\n",
    "            print(end=\" \")\n",
    "        for j in range(i,0,-1):\n",
    "            if i == n:\n",
    "                print('*', end=\" \")\n",
    "            elif j == i :\n",
    "                print('*', end=\" \")\n",
    "            else:\n",
    "                print(' ', end=\" \")\n",
    "        for j in range(i,1,-1):\n",
    "            if i == n:\n",
    "                print('*', end=\" \")\n",
    "            elif j == 2:\n",
    "                print('*', end=\" \")\n",
    "            else:\n",
    "                print(' ', end=\" \")\n",
    "        print()"
   ]
  },
  {
   "cell_type": "code",
   "execution_count": 18,
   "metadata": {},
   "outputs": [
    {
     "output_type": "stream",
     "name": "stdout",
     "text": [
      "* * * * * * * * * \n  *           * \n    *       * \n      *   * \n        * \n"
     ]
    }
   ],
   "source": [
    "pattern_i(5)"
   ]
  },
  {
   "cell_type": "code",
   "execution_count": 19,
   "metadata": {},
   "outputs": [],
   "source": [
    "def pattern_j(n):\n",
    "    for i in range(n,0,-1):\n",
    "        for j in range(i, 2*n-i):\n",
    "            print(end=\" \")\n",
    "        for j in range(i,0,-1):\n",
    "            print('*', end=\" \")\n",
    "        for j in range(i,1,-1):\n",
    "            print('*', end=\" \")\n",
    "        print()"
   ]
  },
  {
   "cell_type": "code",
   "execution_count": 20,
   "metadata": {},
   "outputs": [
    {
     "output_type": "stream",
     "name": "stdout",
     "text": [
      "* * * * * * * * * \n",
      "  * * * * * * * \n",
      "    * * * * * \n",
      "      * * * \n",
      "        * \n"
     ]
    }
   ],
   "source": [
    "pattern_j(5)"
   ]
  },
  {
   "cell_type": "code",
   "execution_count": 21,
   "metadata": {},
   "outputs": [],
   "source": [
    "def pattern_k(n):\n",
    "    for i in range(1,n):\n",
    "        for j in range(i, 2*n-i):\n",
    "            print(end=\" \")\n",
    "        for j in range(i,1,-1):\n",
    "            if j == i :\n",
    "                print('*', end=\" \")\n",
    "            else:\n",
    "                print(' ', end=\" \")\n",
    "        for j in range(1,i+1):\n",
    "            if j == i:\n",
    "                print('*', end=\" \")\n",
    "            else:\n",
    "                print(' ', end=\" \")\n",
    "        print()\n",
    "    for i in range(n,0,-1):\n",
    "        for j in range(i, 2*n-i):\n",
    "            print(end=\" \")\n",
    "        for j in range(i,0,-1):\n",
    "            if j == i :\n",
    "                print('*', end=\" \")\n",
    "            else:\n",
    "                print(' ', end=\" \")\n",
    "        for j in range(i,1,-1):\n",
    "            if j == 2:\n",
    "                print('*', end=\" \")\n",
    "            else:\n",
    "                print(' ', end=\" \")\n",
    "        print()"
   ]
  },
  {
   "cell_type": "code",
   "execution_count": 22,
   "metadata": {},
   "outputs": [
    {
     "output_type": "stream",
     "name": "stdout",
     "text": [
      "        * \n      *   * \n    *       * \n  *           * \n*               * \n  *           * \n    *       * \n      *   * \n        * \n"
     ]
    }
   ],
   "source": [
    "pattern_k(5)"
   ]
  },
  {
   "cell_type": "code",
   "execution_count": 23,
   "metadata": {},
   "outputs": [],
   "source": [
    "def pattern_l(n):\n",
    "    for i in range(1,n):\n",
    "        for j in range(i, 2*n-i):\n",
    "            print(end=\" \")\n",
    "        for j in range(i,1,-1):\n",
    "            print('*', end= \" \")\n",
    "        for j in range(1,i+1):\n",
    "            print('*', end=\" \")\n",
    "        print()\n",
    "    for i in range(n,0,-1):\n",
    "        for j in range(i, 2*n-i):\n",
    "            print(end=\" \")\n",
    "        for j in range(i,0,-1):\n",
    "            print('*', end=\" \")\n",
    "        for j in range(i,1,-1):\n",
    "            print('*', end=\" \")\n",
    "        print()"
   ]
  },
  {
   "cell_type": "code",
   "execution_count": 24,
   "metadata": {},
   "outputs": [
    {
     "output_type": "stream",
     "name": "stdout",
     "text": [
      "        * \n",
      "      * * * \n",
      "    * * * * * \n",
      "  * * * * * * * \n",
      "* * * * * * * * * \n",
      "  * * * * * * * \n",
      "    * * * * * \n",
      "      * * * \n",
      "        * \n"
     ]
    }
   ],
   "source": [
    "pattern_l(5)"
   ]
  },
  {
   "cell_type": "code",
   "execution_count": 25,
   "metadata": {},
   "outputs": [],
   "source": [
    "def pattern_m(n):\n",
    "    for i in range(n,0,-1):\n",
    "        for j in range(i, 2*n-i):\n",
    "            print(end=\" \")\n",
    "        for j in range(i,0,-1):\n",
    "            print('$', end=\" \")\n",
    "        print()\n"
   ]
  },
  {
   "cell_type": "code",
   "execution_count": 26,
   "metadata": {},
   "outputs": [
    {
     "output_type": "stream",
     "name": "stdout",
     "text": [
      "$ $ $ $ $ \n  $ $ $ $ \n    $ $ $ \n      $ $ \n        $ \n"
     ]
    }
   ],
   "source": [
    "pattern_m(5)"
   ]
  },
  {
   "cell_type": "code",
   "execution_count": 27,
   "metadata": {},
   "outputs": [],
   "source": [
    "def pattern_n(n):\n",
    "    n += 1\n",
    "    for i in range(1,n):\n",
    "        for j in range(i, 2*n-i):\n",
    "            print(end=\" \")\n",
    "        for j in range(1,i+1):\n",
    "            print('#', end=\" \")\n",
    "        print()\n"
   ]
  },
  {
   "cell_type": "code",
   "execution_count": 28,
   "metadata": {},
   "outputs": [
    {
     "output_type": "stream",
     "name": "stdout",
     "text": [
      "          # \n        # # \n      # # # \n    # # # # \n  # # # # # \n"
     ]
    }
   ],
   "source": [
    "pattern_n(5)"
   ]
  }
 ]
}