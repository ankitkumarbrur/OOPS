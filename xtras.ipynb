{
 "metadata": {
  "language_info": {
   "codemirror_mode": {
    "name": "ipython",
    "version": 3
   },
   "file_extension": ".py",
   "mimetype": "text/x-python",
   "name": "python",
   "nbconvert_exporter": "python",
   "pygments_lexer": "ipython3",
   "version": "3.8.1-final"
  },
  "orig_nbformat": 2,
  "kernelspec": {
   "name": "python38132bitvenvvenv91270e11641b484ca834f7666afa2651",
   "display_name": "Python 3.8.1 32-bit ('venv': venv)",
   "language": "python"
  }
 },
 "nbformat": 4,
 "nbformat_minor": 2,
 "cells": [
  {
   "cell_type": "code",
   "execution_count": 1,
   "metadata": {},
   "outputs": [
    {
     "output_type": "stream",
     "name": "stdout",
     "text": [
      "1\n2\n3\n4\n5\n6\n"
     ]
    }
   ],
   "source": [
    "def input_nested_list(_str):\n",
    "    if not _str:\n",
    "        return list()\n",
    "\n",
    "    i = 0\n",
    "    sub_list = list()\n",
    "    while i<len(_str):\n",
    "        if _str[i] != '[':\n",
    "            sub_list.append(_str[i])\n",
    "        else:\n",
    "            closing_bracket_index = len(_str) - _str.index(']')\n",
    "            sub_list.append(input_nested_list(_str[i+1:closing_bracket_index]))\n",
    "            i = closing_bracket_index\n",
    "        i+=1\n",
    "    return sub_list"
   ]
  },
  {
   "cell_type": "code",
   "execution_count": 4,
   "metadata": {},
   "outputs": [],
   "source": [
    "a,b = list(map(float,input().split(' ')))"
   ]
  },
  {
   "cell_type": "code",
   "execution_count": 5,
   "metadata": {},
   "outputs": [
    {
     "output_type": "execute_result",
     "data": {
      "text/plain": [
       "1.0"
      ]
     },
     "metadata": {},
     "execution_count": 5
    }
   ],
   "source": [
    "a"
   ]
  },
  {
   "cell_type": "code",
   "execution_count": 6,
   "metadata": {},
   "outputs": [
    {
     "output_type": "execute_result",
     "data": {
      "text/plain": [
       "2.0"
      ]
     },
     "metadata": {},
     "execution_count": 6
    }
   ],
   "source": [
    "b"
   ]
  },
  {
   "cell_type": "code",
   "execution_count": 1,
   "metadata": {},
   "outputs": [],
   "source": [
    "class Myclass:\n",
    "    def __init__(self):\n",
    "        self.popo = 100\n",
    "        self.p = self.get_p()\n",
    "        self.__to= \"hello world\"\n",
    "        print(\"hello\")\n",
    "    \n",
    "    def __repr__(self):\n",
    "        return \"tr\"\n",
    "\n",
    "    def __len__(self):\n",
    "        return 10\n",
    "\n",
    "    def __foe__(self):\n",
    "        return 99\n",
    "\n",
    "    def get_p(self):\n",
    "        return 100\n",
    "    "
   ]
  },
  {
   "cell_type": "code",
   "execution_count": 7,
   "metadata": {},
   "outputs": [],
   "source": [
    "class my(Myclass):\n",
    "    \n",
    "    def __init__(self):\n",
    "        print(\"1\")\n",
    "\n",
    "    def g(self):\n",
    "        return 10"
   ]
  },
  {
   "cell_type": "code",
   "execution_count": 12,
   "metadata": {},
   "outputs": [],
   "source": [
    "class A:\n",
    "    def __init__(self):\n",
    "        self.a = 'a'\n",
    "class B:\n",
    "    def __init__(self):\n",
    "        self.b = 'b'"
   ]
  },
  {
   "cell_type": "code",
   "execution_count": 15,
   "metadata": {},
   "outputs": [],
   "source": [
    "class C(A,B):\n",
    "    def __init__(self):\n",
    "        super().__init__()\n",
    "        self.c = 'c'"
   ]
  },
  {
   "cell_type": "code",
   "execution_count": 16,
   "metadata": {},
   "outputs": [],
   "source": [
    "x = C()"
   ]
  },
  {
   "cell_type": "code",
   "execution_count": 33,
   "metadata": {},
   "outputs": [],
   "source": [
    "class A:\n",
    "    def __init__(self):\n",
    "        print(\"A\")\n",
    "\n",
    "class B(A):\n",
    "    def __init__(self):\n",
    "        super().__init__()\n",
    "        print(\"B\")\n",
    "\n",
    "class C(A):\n",
    "    def __init__(self):\n",
    "        super().__init__()\n",
    "        print(\"C\")\n",
    "\n",
    "class D(B,C):\n",
    "    def __init__(self):\n",
    "        super().__init__()\n",
    "        print(\"D\")"
   ]
  },
  {
   "cell_type": "code",
   "execution_count": 34,
   "metadata": {},
   "outputs": [
    {
     "output_type": "stream",
     "name": "stdout",
     "text": [
      "A\nC\nB\nD\n"
     ]
    }
   ],
   "source": [
    "obj = D()\n"
   ]
  },
  {
   "cell_type": "code",
   "execution_count": 36,
   "metadata": {},
   "outputs": [],
   "source": [
    "class A:\n",
    "    def fun(self):\n",
    "        print(\"A\")\n",
    "\n",
    "class B(A):\n",
    "    def fun(self):\n",
    "        print(\"B\")\n",
    "\n",
    "class C(A):\n",
    "    def fun(self):\n",
    "        print(\"C\")\n",
    "\n",
    "class D(B,C):\n",
    "    pass"
   ]
  },
  {
   "cell_type": "code",
   "execution_count": 37,
   "metadata": {},
   "outputs": [
    {
     "output_type": "stream",
     "name": "stdout",
     "text": [
      "B\n"
     ]
    }
   ],
   "source": [
    "obj.fun()"
   ]
  },
  {
   "cell_type": "code",
   "execution_count": 38,
   "metadata": {},
   "outputs": [
    {
     "output_type": "stream",
     "name": "stdout",
     "text": [
      "Help on class D in module __main__:\n\nclass D(B, C)\n |  Method resolution order:\n |      D\n |      B\n |      C\n |      A\n |      builtins.object\n |  \n |  Methods inherited from B:\n |  \n |  fun(self)\n |  \n |  ----------------------------------------------------------------------\n |  Data descriptors inherited from A:\n |  \n |  __dict__\n |      dictionary for instance variables (if defined)\n |  \n |  __weakref__\n |      list of weak references to the object (if defined)\n\n"
     ]
    }
   ],
   "source": [
    "help(D)"
   ]
  }
 ]
}