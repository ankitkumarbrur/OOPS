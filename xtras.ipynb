{
 "metadata": {
  "language_info": {
   "codemirror_mode": {
    "name": "ipython",
    "version": 3
   },
   "file_extension": ".py",
   "mimetype": "text/x-python",
   "name": "python",
   "nbconvert_exporter": "python",
   "pygments_lexer": "ipython3",
   "version": "3.8.1-final"
  },
  "orig_nbformat": 2,
  "kernelspec": {
   "name": "python38132bitvenvvenv91270e11641b484ca834f7666afa2651",
   "display_name": "Python 3.8.1 32-bit ('venv': venv)",
   "language": "python"
  }
 },
 "nbformat": 4,
 "nbformat_minor": 2,
 "cells": [
  {
   "cell_type": "code",
   "execution_count": null,
   "metadata": {},
   "outputs": [],
   "source": [
    "def sum_of_num(sqdnumber):\n",
    "\n",
    "   sqdnumber_result = 0             #to store the sum, eg for 23==>2^2+3^2=13\n",
    "\n",
    "   for num in sqdnumber:            #loop through string 'sqdnumber' \n",
    "      sqr_of_num = int(num)**2      #convert num into int then take square of it\n",
    "      sqdnumber_result+= sqr_of_num #add and store square value in sqdnumber_result\n",
    "   return sqdnumber_result\n",
    "\n",
    "def main():\n",
    "\n",
    "   sqdnumber = input('Give us a number: ') #eg. '123' or '23' \n",
    "   a=sqdnumber  #save sqdnumber in 'a' to use the original value later\n",
    "\n",
    "\n",
    "   i=1\n",
    "   while sqdnumber != '1' and i in range(10):  \n",
    "      sum_of_num(sqdnumber)                   #calling sum_of_num function\n",
    "      sqdnumber = str(sum_of_num(sqdnumber))  #save it back to sqdnumber in 'str' form\n",
    "      i+=1                                    #increasing i by 1\n",
    "  #This while loop will run till either sqdnumber=='1' or i exceeds range(10) \n",
    "\n",
    "   if sqdnumber == '1':\n",
    "      print(f'Yayy!!! {a} is a Happy Number. ') #as we stored original sqdnumber in a  \n",
    "   else:\n",
    "      print(f'Sorry, {a} is not a Happy Number.')\n",
    "\n",
    "main()"
   ]
  },
  {
   "cell_type": "code",
   "execution_count": 28,
   "metadata": {},
   "outputs": [],
   "source": [
    "def timeConversion(s):\n",
    "    if 'AM' in s:\n",
    "        return s.replace('AM','').replace(\"12\",\"00\") \n",
    "\n",
    "    spl=s.replace('PM','').split(':')\n",
    "    spl[0]=str(int(spl[0])%12 + 12)\n",
    "    n=':'.join(spl)\n",
    "\n",
    "    return n"
   ]
  },
  {
   "cell_type": "code",
   "execution_count": 33,
   "metadata": {},
   "outputs": [
    {
     "output_type": "execute_result",
     "data": {
      "text/plain": [
       "'00:11:00'"
      ]
     },
     "metadata": {},
     "execution_count": 33
    }
   ],
   "source": [
    "timeConversion(\"12:11:00AM\")"
   ]
  }
 ]
}