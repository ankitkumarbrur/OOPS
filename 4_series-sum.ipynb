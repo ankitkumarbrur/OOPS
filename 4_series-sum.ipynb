{
 "metadata": {
  "language_info": {
   "codemirror_mode": {
    "name": "ipython",
    "version": 3
   },
   "file_extension": ".py",
   "mimetype": "text/x-python",
   "name": "python",
   "nbconvert_exporter": "python",
   "pygments_lexer": "ipython3",
   "version": "3.8.1-final"
  },
  "orig_nbformat": 2,
  "kernelspec": {
   "name": "python38132bit0f81a3e8780841afb635aac217ffc56d",
   "display_name": "Python 3.8.1 32-bit",
   "language": "python"
  }
 },
 "nbformat": 4,
 "nbformat_minor": 2,
 "cells": [
  {
   "source": [
    "# Find the sum of n terms of the following series\n",
    "# 1. $  1 - \\frac{x^{2}}{2!} + \\frac{x^{4}}{4!} - \\frac{x^{6}}{6!} + ... \\frac{x^{n}}{n!} $\n",
    "# 2. $  e^{x} = 1 + \\frac{x}{1!} + \\frac{x^{2}}{2!} + \\frac{x^{3}}{3!} + ... $"
   ],
   "cell_type": "markdown",
   "metadata": {}
  },
  {
   "cell_type": "code",
   "execution_count": 1,
   "metadata": {},
   "outputs": [],
   "source": [
    "def factorial(x):\n",
    "    if x < 0 or type(x) != int:\n",
    "        raise Exception(\"factorial() only defined for non-negative integral values\")\n",
    "    if x == 0 or x == 1:\n",
    "        return 1\n",
    "    else:\n",
    "        return x* factorial(x-1)"
   ]
  },
  {
   "cell_type": "code",
   "execution_count": 2,
   "metadata": {},
   "outputs": [],
   "source": [
    "def series_1(x,n):\n",
    "    value = 0\n",
    "    for i in range(1,n+1):\n",
    "        value += (-1)**(i+1) * x**((i-1)*2)/factorial((i-1)*2)\n",
    "    return value"
   ]
  },
  {
   "cell_type": "code",
   "execution_count": 3,
   "metadata": {},
   "outputs": [],
   "source": [
    "def series_2(x,n):\n",
    "    value = 0\n",
    "    for i in range(n):\n",
    "        value += x**i/factorial(i)\n",
    "    return value"
   ]
  },
  {
   "cell_type": "code",
   "execution_count": 4,
   "metadata": {},
   "outputs": [
    {
     "output_type": "execute_result",
     "data": {
      "text/plain": [
       "-0.33333333333333337"
      ]
     },
     "metadata": {},
     "execution_count": 4
    }
   ],
   "source": [
    "series_1(2,3)"
   ]
  },
  {
   "cell_type": "code",
   "execution_count": 5,
   "metadata": {},
   "outputs": [
    {
     "output_type": "execute_result",
     "data": {
      "text/plain": [
       "50.5"
      ]
     },
     "metadata": {},
     "execution_count": 5
    }
   ],
   "source": [
    "series_2(9,3)"
   ]
  }
 ]
}